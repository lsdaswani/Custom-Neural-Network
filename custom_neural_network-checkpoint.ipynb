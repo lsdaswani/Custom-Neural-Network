{
 "cells": [
  {
   "cell_type": "markdown",
   "metadata": {},
   "source": [
    "# CUSTOM NEURAL NETWORK\n"
   ]
  },
  {
   "cell_type": "code",
   "execution_count": 13,
   "metadata": {},
   "outputs": [
    {
     "data": {
      "text/plain": [
       "Text(0, 0.5, 'Cost')"
      ]
     },
     "execution_count": 13,
     "metadata": {},
     "output_type": "execute_result"
    },
    {
     "data": {
      "image/png": "[encoded data removed]",
      "text/plain": [
       "<Figure size 432x288 with 1 Axes>"
      ]
     },
     "metadata": {
      "needs_background": "light"
     },
     "output_type": "display_data"
    }
   ],
   "source": [
    "#First, import the libraries:\n",
    "import numpy as np\n",
    "import matplotlib.pyplot as plt\n",
    "%matplotlib inline\n",
    "\n",
    "#Prepare the data as shown in the XOR table:\n",
    "X = np.array([ [0, 1], [1, 0], [1, 1],[0, 0] ])\n",
    "y = np.array([ [1], [1], [0], [0]])\n",
    "\n",
    "#Define the number of nodes in each layer:\n",
    "num_input = 2\n",
    "num_hidden = 5\n",
    "num_output = 1\n",
    "\n",
    "#Initialize the weights and bias randomly. First, we initialize the input to hidden layer weights:\n",
    "Wxh = np.random.randn(num_input,num_hidden)\n",
    "bh = np.zeros((1,num_hidden))\n",
    "\n",
    "#Now, we initialize the hidden to output layer weights:\n",
    "Why = np.random.randn (num_hidden,num_output)\n",
    "by = np.zeros((1,num_output))\n",
    "\n",
    "#Define the sigmoid activation function:\n",
    "def sigmoid(z):\n",
    " return 1 / (1+np.exp(-z))\n",
    "\n",
    "#Define the derivative of the sigmoid function:\n",
    "def sigmoid_derivative(z):\n",
    " return np.exp(-z)/((1+np.exp(-z))**2)\n",
    "\n",
    "#Define the forward propagation:\n",
    "def forward_prop(X,Wxh,Why):\n",
    " z1 = np.dot(X,Wxh) + bh\n",
    " a1 = sigmoid(z1)\n",
    " z2 = np.dot(a1,Why) + by\n",
    " y_hat = sigmoid(z2)\n",
    " return z1,a1,z2,y_hat\n",
    "\n",
    "#Define the backward propagation:\n",
    "def backword_prop(y_hat, z1, a1, z2):\n",
    " delta2 = np.multiply(-(y-y_hat),sigmoid_derivative(z2))\n",
    " dJ_dWhy = np.dot(a1.T, delta2)\n",
    " delta1 = np.dot(delta2,Why.T)*sigmoid_derivative(z1)\n",
    " dJ_dWxh = np.dot(X.T, delta1)\n",
    " return dJ_dWxh, dJ_dWhy\n",
    "\n",
    "#Define the cost function:\n",
    "def cost_function(y, y_hat):\n",
    " J = 0.5*sum((y-y_hat)**2)\n",
    " return J\n",
    "\n",
    "#Set the learning rate and the number of training iterations:\n",
    "alpha = 0.01\n",
    "num_iterations = 5000\n",
    "\n",
    "#Now, let's start training the network with the following code:\n",
    "cost =[]\n",
    "for i in range(num_iterations):\n",
    " z1,a1,z2,y_hat = forward_prop(X,Wxh,Why)\n",
    " dJ_dWxh, dJ_dWhy = backword_prop(y_hat, z1, a1, z2)\n",
    " #update weights\n",
    " Wxh = Wxh -alpha * dJ_dWxh\n",
    " Why = Why -alpha * dJ_dWhy\n",
    " #compute cost\n",
    " c = cost_function(y, y_hat)\n",
    " cost.append(c)\n",
    "    \n",
    "#Plot the cost function:\n",
    "plt.grid()\n",
    "plt.plot(range(num_iterations),cost)\n",
    "plt.title('Cost Function')\n",
    "plt.xlabel('Training Iterations')\n",
    "plt.ylabel('Cost')"
   ]
  }
 ],
 "metadata": {
  "kernelspec": {
   "display_name": "Python 3",
   "language": "python",
   "name": "python3"
  },
  "language_info": {
   "codemirror_mode": {
    "name": "ipython",
    "version": 3
   },
   "file_extension": ".py",
   "mimetype": "text/x-python",
   "name": "python",
   "nbconvert_exporter": "python",
   "pygments_lexer": "ipython3",
   "version": "3.7.3"
  }
 },
 "nbformat": 4,
 "nbformat_minor": 2
}
